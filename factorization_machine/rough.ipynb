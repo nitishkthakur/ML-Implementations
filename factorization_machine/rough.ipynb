{
 "cells": [
  {
   "cell_type": "code",
   "execution_count": 3,
   "id": "e9e606f4",
   "metadata": {},
   "outputs": [],
   "source": [
    "from sklearn import preprocessing\n",
    "import pandas as pd\n",
    "import numpy as np"
   ]
  },
  {
   "cell_type": "code",
   "execution_count": 2,
   "id": "b07fd5e8",
   "metadata": {},
   "outputs": [],
   "source": [
    "def polynomial_features(X):\n",
    "    \"\"\"Takes featurea and polynomial features such that any given pair of features never appears twice as a product\"\"\"\n",
    "    X_poly = np.zeros((X.shape[0], X.shape[1] * (X.shape[1] - 1) // 2)) * np.nan\n",
    "\n",
    "    # Iterate and store polynomial features\n",
    "    outer_index = 0\n",
    "    for index in range(X.shape[1]):\n",
    "        X_poly[:, outer_index : outer_index + X.shape[1] - index] = (\n",
    "            X[:, index].reshape(-1, 1) * X[:, index:]\n",
    "        )\n",
    "        outer_index += X.shape[1] - index\n",
    "    return X_poly\n",
    "\n",
    "\n",
    "def flatten_lower_triangular(matrix):\n",
    "    \"\"\"\n",
    "    Extracts the lower triangular part of the matrix (including the diagonal)\n",
    "    and returns it as a 1D flattened array.\n",
    "\n",
    "    Parameters:\n",
    "        matrix (np.ndarray): A 2D numpy array.\n",
    "\n",
    "    Returns:\n",
    "        np.ndarray: A 1D array containing the lower triangular elements of the matrix.\n",
    "    \"\"\"\n",
    "    lower_tri_indices = np.tril_indices_from(matrix)\n",
    "    return matrix[lower_tri_indices]"
   ]
  },
  {
   "cell_type": "code",
   "execution_count": 3,
   "id": "b06682f1",
   "metadata": {},
   "outputs": [
    {
     "data": {
      "text/plain": [
       "array([[ 1.,  2.,  3.,  4.,  4.,  6.,  8.,  9., 12., 16.],\n",
       "       [ 1.,  7.,  6.,  5., 49., 42., 35., 36., 30., 25.]])"
      ]
     },
     "execution_count": 3,
     "metadata": {},
     "output_type": "execute_result"
    }
   ],
   "source": [
    "df = pd.DataFrame(data=[[2, 3, 4], [7, 6, 5]], columns=[\"A\", \"B\", \"C\"])\n",
    "fit = preprocessing.PolynomialFeatures().fit(df)\n",
    "transformed = fit.transform(df)\n",
    "transformed"
   ]
  },
  {
   "cell_type": "code",
   "execution_count": 4,
   "id": "32487499",
   "metadata": {},
   "outputs": [
    {
     "data": {
      "text/plain": [
       "array([[ 1.,  2.,  3.,  4.,  4.,  6.,  8., 12.]])"
      ]
     },
     "execution_count": 4,
     "metadata": {},
     "output_type": "execute_result"
    }
   ],
   "source": [
    "np.array([[1.0, 2.0, 3.0, 4.0, 4.0, 6.0, 8.0, 12.0]])"
   ]
  },
  {
   "cell_type": "code",
   "execution_count": null,
   "id": "a6935d2b",
   "metadata": {},
   "outputs": [
    {
     "name": "stdout",
     "output_type": "stream",
     "text": [
      "[[ 8]\n",
      " [22]\n",
      " [36]]\n"
     ]
    }
   ],
   "source": [
    "a = np.array([[1, 2], [3, 5], [5, 8]])\n",
    "b = np.array([[4], [2]])\n",
    "\n",
    "\n",
    "p1 = a @ b\n",
    "print(p1)"
   ]
  }
 ],
 "metadata": {
  "kernelspec": {
   "display_name": ".venv",
   "language": "python",
   "name": "python3"
  },
  "language_info": {
   "codemirror_mode": {
    "name": "ipython",
    "version": 3
   },
   "file_extension": ".py",
   "mimetype": "text/x-python",
   "name": "python",
   "nbconvert_exporter": "python",
   "pygments_lexer": "ipython3",
   "version": "3.12.3"
  }
 },
 "nbformat": 4,
 "nbformat_minor": 5
}
